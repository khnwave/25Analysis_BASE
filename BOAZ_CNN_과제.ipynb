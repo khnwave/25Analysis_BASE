{
 "cells": [
  {
   "cell_type": "code",
   "execution_count": 4,
   "metadata": {
    "executionInfo": {
     "elapsed": 6106,
     "status": "ok",
     "timestamp": 1715496376915,
     "user": {
      "displayName": "Ki Di",
      "userId": "11388083629378020019"
     },
     "user_tz": -540
    },
    "id": "gaXvKTIYi6r6"
   },
   "outputs": [],
   "source": [
    "# 그럼 첫번째 레슨 : 라이브러리 불러오기\n",
    "#!pip install tensorflow matplotlib\n",
    "#필요한 딥러닝 관련 라이브러리를 불러옵니다.\n",
    "\n",
    "import tensorflow as tf\n",
    "from tensorflow.keras import datasets, layers, models\n",
    "import matplotlib.pyplot as plt"
   ]
  },
  {
   "cell_type": "code",
   "execution_count": 5,
   "metadata": {
    "colab": {
     "base_uri": "https://localhost:8080/"
    },
    "executionInfo": {
     "elapsed": 5481,
     "status": "ok",
     "timestamp": 1715496384750,
     "user": {
      "displayName": "Ki Di",
      "userId": "11388083629378020019"
     },
     "user_tz": -540
    },
    "id": "JQ4PgaVJjDaZ",
    "outputId": "ade51911-b92c-482c-9734-04f47b24fe54"
   },
   "outputs": [],
   "source": [
    "# 🗂️ Step 2: 데이터 불러오기\n",
    "\n",
    "#CIFAR-10 데이터셋을 불러오고, 학습용/테스트용으로 분리합니다.\n",
    "\n",
    "(train_images, train_labels), (test_images, test_labels) = datasets.cifar10.load_data()\n"
   ]
  },
  {
   "cell_type": "markdown",
   "metadata": {},
   "source": [
    "## 과제1. 데이터의 구조를 살펴보세요. 사이즈는?"
   ]
  },
  {
   "cell_type": "code",
   "execution_count": 6,
   "metadata": {},
   "outputs": [
    {
     "name": "stdout",
     "output_type": "stream",
     "text": [
      "(50000, 32, 32, 3) (50000, 1)\n",
      "(10000, 32, 32, 3) (10000, 1)\n"
     ]
    }
   ],
   "source": [
    "# 여기에서 확인해 보세요.\n",
    "print(train_images.shape, train_labels.shape)   \n",
    "print(test_images.shape , test_labels.shape)   "
   ]
  },
  {
   "cell_type": "code",
   "execution_count": 7,
   "metadata": {
    "colab": {
     "base_uri": "https://localhost:8080/",
     "height": 672
    },
    "executionInfo": {
     "elapsed": 4322,
     "status": "ok",
     "timestamp": 1715496406434,
     "user": {
      "displayName": "Ki Di",
      "userId": "11388083629378020019"
     },
     "user_tz": -540
    },
    "id": "SvdfBtPFjLhm",
    "outputId": "2b6591a8-9efa-42fd-8acd-9edddbcd947c"
   },
   "outputs": [],
   "source": [
    "# 🏷️ Step 3: 클래스 이름 정의\n",
    "\n",
    "#CIFAR-10의 라벨은 숫자로 되어 있으므로, 사람이 이해할 수 있도록 이름을 부여합니다.\n",
    "class_names = ['airplane', 'automobile', 'bird', 'cat', 'deer',\n",
    "               'dog', 'frog', 'horse', 'ship', 'truck']"
   ]
  },
  {
   "cell_type": "markdown",
   "metadata": {},
   "source": [
    "## 과제2. 아래 코드의 빈칸을 채워 CNN 모델을 완성해보세요. \n",
    "#### layer나 패딩 혹은 drop out, batch normalization을 추가해 가며 모델의 정확도 변화를 보는 것도 좋습니다."
   ]
  },
  {
   "cell_type": "code",
   "execution_count": 8,
   "metadata": {
    "executionInfo": {
     "elapsed": 2048,
     "status": "ok",
     "timestamp": 1715496498864,
     "user": {
      "displayName": "Ki Di",
      "userId": "11388083629378020019"
     },
     "user_tz": -540
    },
    "id": "b6KfEI2ljboP"
   },
   "outputs": [
    {
     "name": "stderr",
     "output_type": "stream",
     "text": [
      "/opt/anaconda3/envs/pytorch/lib/python3.11/site-packages/keras/src/layers/convolutional/base_conv.py:113: UserWarning: Do not pass an `input_shape`/`input_dim` argument to a layer. When using Sequential models, prefer using an `Input(shape)` object as the first layer in the model instead.\n",
      "  super().__init__(activity_regularizer=activity_regularizer, **kwargs)\n"
     ]
    }
   ],
   "source": [
    "# 🧱 Step 4: CNN 모델 구성\n",
    "# Convolution → MaxPooling → Flatten → Dense 구조로 CNN을 설계합니다.\n",
    "# 아래의 빈칸 (___)을 채워 모델을 완성해보세요.\n",
    "\n",
    "model = models.Sequential()\n",
    "\n",
    "# 첫 번째 합성곱 레이어\n",
    "model.add(layers.Conv2D(32, (3, 3), activation='relu', input_shape=(32, 32, 3)))  # TODO: 커널 개수 설정\n",
    "\n",
    "# 첫 번째 풀링 레이어\n",
    "model.add(layers.MaxPooling2D((2,2)))  # TODO: 풀링 크기 설정\n",
    "\n",
    "# 두 번째 합성곱 레이어\n",
    "model.add(layers.Conv2D(64, (3, 3), activation='relu'))  # TODO: 커널 크기 설정\n",
    "\n",
    "# 두 번째 풀링 레이어\n",
    "model.add(layers.MaxPooling2D((2, 2)))\n",
    "\n",
    "# 세 번째 합성곱 레이어\n",
    "model.add(layers.Conv2D(64, (3, 3), activation='relu'))  # TODO: 커널 개수 설정\n",
    "\n",
    "# Flatten + Fully Connected Layer\n",
    "model.add(layers.Flatten())\n",
    "model.add(layers.Dense(64))  # TODO: 은닉층 유닛 수 설정\n",
    "model.add(layers.Dense(10))  # 출력층: CIFAR-10은 클래스가 10개"
   ]
  },
  {
   "cell_type": "markdown",
   "metadata": {},
   "source": [
    "## 자신이 채운 코드를 기반으로 각 레이어별 Feature Map 크기를 계산해 보세요. \n",
    "(padding은 디폴트로 없습니다.)"
   ]
  },
  {
   "cell_type": "markdown",
   "metadata": {},
   "source": [
    "Answer\n",
    "\n",
    "첫 번째 합성곱 레이어 : (32 - 3)//1 + 1  -> (30, 30, 32)\n",
    "\n",
    "첫 번째 풀링 레이어: (30/2, 30/2) -> (15,15,32)\n",
    "\n",
    "두 번쨰 합성곱 레이어: (15 - 3)/1 + 1 -> (13, 13, 64)\n",
    "\n",
    "두 번째 풀링 레이어 : (13//2, 13//2) -> (6, 6, 64)\n",
    "\n",
    "세 번째 합성곱 레이어 : (6 - 3)//1 + 1 -> (4, 4, 64)\n",
    "\n",
    "Flatten : 4 * 4 * 64 = 1024"
   ]
  },
  {
   "cell_type": "code",
   "execution_count": 9,
   "metadata": {
    "colab": {
     "base_uri": "https://localhost:8080/"
    },
    "executionInfo": {
     "elapsed": 87492,
     "status": "ok",
     "timestamp": 1715496826651,
     "user": {
      "displayName": "Ki Di",
      "userId": "11388083629378020019"
     },
     "user_tz": -540
    },
    "id": "e5GLqIzikILD",
    "outputId": "9eb72adf-635d-43c6-a577-f8a67a3556d0"
   },
   "outputs": [],
   "source": [
    "# ⚙️ Step 5: 모델 컴파일\n",
    "\n",
    "#모델을 학습할 수 있도록 컴파일합니다. 손실 함수, 최적화 방법, 평가지표를 설정합니다.\n",
    "\n",
    "model.compile(optimizer='adam',\n",
    "              loss=tf.keras.losses.SparseCategoricalCrossentropy(from_logits=True),\n",
    "              metrics=['accuracy'])"
   ]
  },
  {
   "cell_type": "code",
   "execution_count": 10,
   "metadata": {},
   "outputs": [
    {
     "name": "stdout",
     "output_type": "stream",
     "text": [
      "Epoch 1/10\n",
      "\u001b[1m1563/1563\u001b[0m \u001b[32m━━━━━━━━━━━━━━━━━━━━\u001b[0m\u001b[37m\u001b[0m \u001b[1m12s\u001b[0m 7ms/step - accuracy: 0.1055 - loss: 3.8596 - val_accuracy: 0.1002 - val_loss: 2.3030\n",
      "Epoch 2/10\n",
      "\u001b[1m1563/1563\u001b[0m \u001b[32m━━━━━━━━━━━━━━━━━━━━\u001b[0m\u001b[37m\u001b[0m \u001b[1m12s\u001b[0m 8ms/step - accuracy: 0.0998 - loss: 2.3036 - val_accuracy: 0.1003 - val_loss: 2.3036\n",
      "Epoch 3/10\n",
      "\u001b[1m1563/1563\u001b[0m \u001b[32m━━━━━━━━━━━━━━━━━━━━\u001b[0m\u001b[37m\u001b[0m \u001b[1m12s\u001b[0m 8ms/step - accuracy: 0.0983 - loss: 2.3037 - val_accuracy: 0.1000 - val_loss: 2.3035\n",
      "Epoch 4/10\n",
      "\u001b[1m1563/1563\u001b[0m \u001b[32m━━━━━━━━━━━━━━━━━━━━\u001b[0m\u001b[37m\u001b[0m \u001b[1m12s\u001b[0m 8ms/step - accuracy: 0.0987 - loss: 2.3034 - val_accuracy: 0.1002 - val_loss: 2.3033\n",
      "Epoch 5/10\n",
      "\u001b[1m1563/1563\u001b[0m \u001b[32m━━━━━━━━━━━━━━━━━━━━\u001b[0m\u001b[37m\u001b[0m \u001b[1m12s\u001b[0m 7ms/step - accuracy: 0.1008 - loss: 2.3034 - val_accuracy: 0.1000 - val_loss: 2.3030\n",
      "Epoch 6/10\n",
      "\u001b[1m1563/1563\u001b[0m \u001b[32m━━━━━━━━━━━━━━━━━━━━\u001b[0m\u001b[37m\u001b[0m \u001b[1m12s\u001b[0m 8ms/step - accuracy: 0.0994 - loss: 2.3031 - val_accuracy: 0.1000 - val_loss: 2.3033\n",
      "Epoch 7/10\n",
      "\u001b[1m1563/1563\u001b[0m \u001b[32m━━━━━━━━━━━━━━━━━━━━\u001b[0m\u001b[37m\u001b[0m \u001b[1m12s\u001b[0m 8ms/step - accuracy: 0.0976 - loss: 2.3041 - val_accuracy: 0.1000 - val_loss: 2.3032\n",
      "Epoch 8/10\n",
      "\u001b[1m1563/1563\u001b[0m \u001b[32m━━━━━━━━━━━━━━━━━━━━\u001b[0m\u001b[37m\u001b[0m \u001b[1m11s\u001b[0m 7ms/step - accuracy: 0.0977 - loss: 2.3033 - val_accuracy: 0.1000 - val_loss: 2.3027\n",
      "Epoch 9/10\n",
      "\u001b[1m1563/1563\u001b[0m \u001b[32m━━━━━━━━━━━━━━━━━━━━\u001b[0m\u001b[37m\u001b[0m \u001b[1m12s\u001b[0m 8ms/step - accuracy: 0.1012 - loss: 2.3029 - val_accuracy: 0.1000 - val_loss: 2.3033\n",
      "Epoch 10/10\n",
      "\u001b[1m1563/1563\u001b[0m \u001b[32m━━━━━━━━━━━━━━━━━━━━\u001b[0m\u001b[37m\u001b[0m \u001b[1m12s\u001b[0m 8ms/step - accuracy: 0.0973 - loss: 2.3031 - val_accuracy: 0.1000 - val_loss: 2.3028\n",
      "313/313 - 1s - 2ms/step - accuracy: 0.1000 - loss: 2.3028\n"
     ]
    },
    {
     "data": {
      "image/png": "[encoded data removed]",
      "text/plain": [
       "<Figure size 640x480 with 1 Axes>"
      ]
     },
     "metadata": {},
     "output_type": "display_data"
    }
   ],
   "source": [
    "# 🔥 Step 6: 모델 학습 및 성능 평가\n",
    "\n",
    "history = model.fit(train_images, train_labels, epochs=10,\n",
    "                    validation_data=(test_images, test_labels))\n",
    "#모델 성능 평가\n",
    "plt.plot(history.history['accuracy'],label='accuracy')\n",
    "plt.plot(history.history['val_accuracy'],label = 'val_accuracy')\n",
    "plt.xlabel('Epoch')\n",
    "plt.ylabel('Accuracy')\n",
    "plt.ylim([0.5, 1])\n",
    "plt.legend(loc='lower right')\n",
    "\n",
    "test_loss, test_acc = model.evaluate(test_images,\n",
    "                                     test_labels,\n",
    "                                     verbose=2)\n"
   ]
  },
  {
   "cell_type": "code",
   "execution_count": 11,
   "metadata": {
    "colab": {
     "base_uri": "https://localhost:8080/"
    },
    "executionInfo": {
     "elapsed": 309,
     "status": "ok",
     "timestamp": 1715496854691,
     "user": {
      "displayName": "Ki Di",
      "userId": "11388083629378020019"
     },
     "user_tz": -540
    },
    "id": "Cc2Uh7qqlGAi",
    "outputId": "9169ed3f-ecbf-4598-83fc-ea11f56d8775"
   },
   "outputs": [
    {
     "name": "stdout",
     "output_type": "stream",
     "text": [
      "Test Accuracy is 0.10000000149011612\n"
     ]
    }
   ],
   "source": [
    "print('Test Accuracy is',test_acc)"
   ]
  },
  {
   "cell_type": "markdown",
   "metadata": {},
   "source": [
    "## 과제3. 직접사용해 보기. 이미지를 로드하고 cifar-10의 사이즈로 리사이즈"
   ]
  },
  {
   "cell_type": "code",
   "execution_count": 16,
   "metadata": {
    "id": "Ka8GtI6ElKA2"
   },
   "outputs": [
    {
     "name": "stdout",
     "output_type": "stream",
     "text": [
      "\u001b[1m1/1\u001b[0m \u001b[32m━━━━━━━━━━━━━━━━━━━━\u001b[0m\u001b[37m\u001b[0m \u001b[1m0s\u001b[0m 16ms/step\n"
     ]
    },
    {
     "data": {
      "image/png": "[encoded data removed]",
      "text/plain": [
       "<Figure size 640x480 with 1 Axes>"
      ]
     },
     "metadata": {},
     "output_type": "display_data"
    }
   ],
   "source": [
    "import numpy as np\n",
    "from tensorflow.keras.preprocessing import image\n",
    "\n",
    "# 새 이미지를 로드하고 모델 예측 수행\n",
    "def predict_new_image(image_path, model, class_names):\n",
    "    # 이미지 로드 및 전처리\n",
    "    img = image.load_img(image_path, target_size=(32,32))  # CIFAR-10 크기로 리사이즈 빈칸채우기\n",
    "    img_array = image.img_to_array(img)  # 이미지를 배열로 변환\n",
    "    img_array = np.expand_dims(img_array, axis=0)  # 배치를 위해 차원 추가\n",
    "    img_array = img_array / 255.0  # 정규화 \n",
    "\n",
    "    # 예측 수행\n",
    "    predictions = model.predict(img_array)\n",
    "    predicted_class = np.argmax(predictions)  # 가장 높은 확률의 클래스 인덱스\n",
    "    class_name = class_names[predicted_class]  # 클래스 이름\n",
    "\n",
    "    # 결과 출력\n",
    "    plt.imshow(img)\n",
    "    plt.title(f\"Predicted: {class_name}\")\n",
    "    plt.axis('off')\n",
    "    plt.show()\n",
    "\n",
    "# 사용 예시\n",
    "image_path = \"/Users/sunrise/Desktop/25Analysis_BASE-Week1/jung.png\"\n",
    "predict_new_image(image_path, model, class_names)\n"
   ]
  },
  {
   "cell_type": "markdown",
   "metadata": {},
   "source": [
    "## 왜 255.0으로 나누었을까요? 이미지 전처리에 대한 지식이니 조사해보세요."
   ]
  },
  {
   "cell_type": "markdown",
   "metadata": {},
   "source": [
    "Answer: 대부분의 이미지 픽셀값이 0~255사이의 정수를 갖는다. 대부분의 디지털 이미지는 8비트 per channel로 구성된다. \n",
    "\n",
    "이때 8비트는  $2^8=256$ 개의 값을 표현할 수 있다. 결국 이 값들을 가지고 0부터 255까지의 정수로 픽셀값을 할당하게 되는 것이다. \n",
    "\n",
    "따라서 각 픽셀의 채널(R, G, B) 값도 0에서 255 사이의 정수로 나타나기에 이를 정 0~1사이의 구간으로 정규화 시키기 위해서는 255로 나누는 과정이 필요하다.\n"
   ]
  },
  {
   "cell_type": "markdown",
   "metadata": {},
   "source": [
    "## 과제4. CNN의 inductive bias에 대해서 조사를 해보고 생각해 봅시다.\n",
    "### CNN은 왜 이미지 처리에 좋을까요? 이미지 말고도 CNN을 잘 쓸 수 있는데는 어디일까요?"
   ]
  },
  {
   "cell_type": "markdown",
   "metadata": {},
   "source": [
    "Answer: "
   ]
  },
  {
   "cell_type": "markdown",
   "metadata": {},
   "source": [
    "CNN inductive Bias\n",
    "- Translation Invariance : CNN은 입력 내에서 패턴의 위치가 변해도 인식할 수 있도록 설계되어있는데 이는 합성곱 연산이 이미지를 전체적으로 훑으며 어디에 있든 동일한 특징을 찾도록 만들기 때문이다.\n",
    "\n",
    "- Local Receptive Fields : CNN의 각 뉴런은 입력 전체가 아니라 일부분(로컬 패치, 수용영역)만 관찰하는데 이는 이미지 내 의미 있는 정보가 인근 픽셀 조합(국소 구조)에서 많이 출현한다는 가정에서 출발한다.\n",
    "\n",
    "-  Hierarchical Feature Learning : 복잡한 정보는 단순한 특징의 조합으로 나타난다는 전제에 기반해 여러 계층을 쌓으면서 간단한 특징에서 복잡한 패턴까지 점진적으로 학습한다."
   ]
  },
  {
   "cell_type": "markdown",
   "metadata": {},
   "source": [
    "이미지 처리에 좋은 이유\n",
    "- 이미지의 공간 정보를 유지한 채 학습을 진행함 (2D 그대로 작업, 1D로 변환 x)\n",
    "    - Fullly Connected Layer만으로 구성된 인공 신경망의 경우 평면화를 시키는 과정에서 데이터 유실이 됨 따라서 정보 부족으로 인공신경망이 특징을 추출하고 학습하는데 비효율적이고 정확도를 높이는데 있어 한계 발생하기에 CNN은 공간정보를 유지한 채 학습을 진행해 공간정보의 유실을 최소화한다. \n",
    "- 데이터를 직접 학습하고 패턴을 사용해 이미지 분류하고, 특징맵을 생성하는 필터까지도 학습하기에 비전(vision) 분야에서 성능 우수하다."
   ]
  },
  {
   "cell_type": "markdown",
   "metadata": {},
   "source": [
    "CNN을 잘 쓸 수 있는 분야\n",
    "- NLP : 문장분류, 감성분석 등에서 1차원 CNN을 사용한다. 이는 CNN이 n-gram 형태의 로컬 패턴을 효과적으로 추출할 수 있기 때문이다.\n",
    "- 음성 신호 처리 : 음성 신호를 Spectrogram(음향의 시간-주파수 이미지)으로 변환하면 2차원 이미지와 유사하게 CNN을 적용할 수 있다고 한다."
   ]
  },
  {
   "cell_type": "markdown",
   "metadata": {},
   "source": []
  }
 ],
 "metadata": {
  "accelerator": "GPU",
  "colab": {
   "authorship_tag": "ABX9TyN8CYc8ZH9vkV2j3L9Mb357",
   "gpuType": "T4",
   "provenance": []
  },
  "kernelspec": {
   "display_name": "Python 3",
   "name": "python3"
  },
  "language_info": {
   "codemirror_mode": {
    "name": "ipython",
    "version": 3
   },
   "file_extension": ".py",
   "mimetype": "text/x-python",
   "name": "python",
   "nbconvert_exporter": "python",
   "pygments_lexer": "ipython3",
   "version": "3.11.12"
  }
 },
 "nbformat": 4,
 "nbformat_minor": 0
}
